{
  "nbformat": 4,
  "nbformat_minor": 0,
  "metadata": {
    "colab": {
      "provenance": []
    },
    "kernelspec": {
      "name": "python3",
      "display_name": "Python 3"
    },
    "language_info": {
      "name": "python"
    }
  },
  "cells": [
    {
      "cell_type": "code",
      "execution_count": null,
      "metadata": {
        "id": "bfurs3ZD1wHo"
      },
      "outputs": [],
      "source": [
        "name = input(\"enter your name\")\n",
        "age = input(\"enter your age\")\n",
        "print(\"hi, welcome\")"
      ]
    },
    {
      "cell_type": "code",
      "source": [
        "in1 = input(\"enter your string\")\n",
        "print(\"the datatype is \" ,type(in1))\n"
      ],
      "metadata": {
        "colab": {
          "base_uri": "https://localhost:8080/"
        },
        "id": "b_MmVzXR2ebG",
        "outputId": "45171cd7-51f6-472b-89d8-a7a0e5c837de"
      },
      "execution_count": null,
      "outputs": [
        {
          "output_type": "stream",
          "name": "stdout",
          "text": [
            "enter your stringhi\n",
            "the datatype is  <class 'str'>\n"
          ]
        }
      ]
    },
    {
      "cell_type": "code",
      "source": [
        "vegetables = [\"brocolli\", \"potato\", \"onion\", \"eggplant\"]\n",
        "for vegetable in vegetables:\n",
        "    print(vegetable.upper())\n",
        "\n",
        "print(\"adding to list\")\n",
        "vegetables.append(\"cabbage\")\n",
        "\n",
        "print(\"removing from list\")\n",
        "vegetables.remove(\"potato\")\n",
        "\n",
        "for vegetable in vegetables:\n",
        "    print(vegetable.upper())\n"
      ],
      "metadata": {
        "colab": {
          "base_uri": "https://localhost:8080/"
        },
        "id": "XmPauV7Y3GR3",
        "outputId": "e0e58472-7d4d-4ebe-82fe-9e626da44025"
      },
      "execution_count": null,
      "outputs": [
        {
          "output_type": "stream",
          "name": "stdout",
          "text": [
            "BROCOLLI\n",
            "POTATO\n",
            "ONION\n",
            "EGGPLANT\n",
            "adding to list\n",
            "removing from list\n",
            "BROCOLLI\n",
            "ONION\n",
            "EGGPLANT\n",
            "CABBAGE\n"
          ]
        }
      ]
    },
    {
      "cell_type": "code",
      "source": [
        "tuple = {53, 65}\n",
        "var1, var2 = tuple\n",
        "\n",
        "print(\"First Element\" , var1)\n",
        "print(\"Second Element\" , var2)"
      ],
      "metadata": {
        "colab": {
          "base_uri": "https://localhost:8080/"
        },
        "id": "nizlRvj-8ICj",
        "outputId": "751f8c46-edea-4ecf-865f-730106df6e31"
      },
      "execution_count": null,
      "outputs": [
        {
          "output_type": "stream",
          "name": "stdout",
          "text": [
            "First Element 65\n",
            "Second Element 53\n"
          ]
        }
      ]
    },
    {
      "cell_type": "code",
      "source": [
        "cstudents = {\"Eiman\" : \"A\" ,\n",
        "             \"Moiz\": \"C\",\n",
        "             \"Mahad\" : \"B\",\n",
        "             \"Taha\" : \"A\",\n",
        "             \"Shaher\" : \"A\"}\n",
        "\n",
        "print(cstudents)\n"
      ],
      "metadata": {
        "colab": {
          "base_uri": "https://localhost:8080/"
        },
        "id": "2ewdh_ra6_xp",
        "outputId": "1f15441e-9271-4bfd-b027-ff667df09743"
      },
      "execution_count": null,
      "outputs": [
        {
          "output_type": "stream",
          "name": "stdout",
          "text": [
            "{'Eiman': 'A', 'Moiz': 'C', 'Mahad': 'B', 'Taha': 'A', 'Shaher': 'A'}\n"
          ]
        }
      ]
    },
    {
      "cell_type": "code",
      "source": [
        "arr1=[]\n",
        "arr2 = []\n",
        "print(\"Enter your list1 of integer\")\n",
        "for i in range(5):\n",
        "    arr1.append(input())\n",
        "\n",
        "print(\"Enter your list2 of integer\")\n",
        "for j in range(5):\n",
        "    arr1.append(input())\n",
        "\n",
        "print(\"union\")\n",
        "ar = arr1\n",
        "ar.extend(arr2)\n",
        "print(ar)\n",
        "\n",
        "print(\"intersection\")\n",
        "array=[]\n",
        "for i in arr1:\n",
        "  if i in arr2:\n",
        "     array.append[i]\n",
        "print(array)\n",
        "\n",
        "print(\"difference\")\n",
        "arr=[]\n",
        "for i in arr1:\n",
        "    if i not in arr2:\n",
        "      arr.append[i]\n",
        "\n",
        "print(arr)"
      ],
      "metadata": {
        "colab": {
          "base_uri": "https://localhost:8080/"
        },
        "id": "V0WLqh2q9UA1",
        "outputId": "3a439627-144b-448b-a914-0770c151565d"
      },
      "execution_count": null,
      "outputs": [
        {
          "output_type": "stream",
          "name": "stdout",
          "text": [
            "Enter your list1 of integer\n",
            "1\n",
            "2\n",
            "3\n",
            "4\n",
            "5\n",
            "Enter your list2 of integer\n",
            "2\n",
            "3\n",
            "7\n",
            "8\n",
            "9\n",
            "union\n",
            "['1', '2', '3', '4', '5', '2', '3', '7', '8', '9']\n",
            "intersection\n",
            "[]\n"
          ]
        }
      ]
    },
    {
      "cell_type": "code",
      "source": [
        "num = int(input(\"Enter your number\"))\n",
        "\n",
        "if (num > 0):\n",
        "   print(\"number is positive\")\n",
        "elif (num < 0 ):\n",
        "   print(\"number is negative\")\n",
        "else:\n",
        "   print(\"number is zero\")\n",
        "\n",
        "if (num % 2):\n",
        "   print(\"number is even\")\n",
        "else:\n",
        "   print(\"number is odd\")"
      ],
      "metadata": {
        "colab": {
          "base_uri": "https://localhost:8080/"
        },
        "id": "sfmWRtrQ9myJ",
        "outputId": "b3a5d85c-af60-4b5d-f966-133aaaad3d0a"
      },
      "execution_count": null,
      "outputs": [
        {
          "output_type": "stream",
          "name": "stdout",
          "text": [
            "Enter your number4\n",
            "number is positive\n",
            "number is odd\n"
          ]
        }
      ]
    },
    {
      "cell_type": "code",
      "source": [
        "for i in range(1, 51):\n",
        "  if (i % 3 == 0):\n",
        "    print(\"fizz\")\n",
        "  elif(i % 5 == 0):\n",
        "    print(\"buzz\")\n",
        "  elif (i % 3 == 0 and i % 5 == 0):\n",
        "    print(\"fizzbuzz\")\n",
        "  else :\n",
        "    print(i)\n"
      ],
      "metadata": {
        "colab": {
          "base_uri": "https://localhost:8080/"
        },
        "id": "EM7jWlEXD5Uo",
        "outputId": "1c9fd191-5a31-4889-f5db-90eac0e27829"
      },
      "execution_count": null,
      "outputs": [
        {
          "output_type": "stream",
          "name": "stdout",
          "text": [
            "1\n",
            "2\n",
            "fizz\n",
            "4\n",
            "buzz\n",
            "fizz\n",
            "7\n",
            "8\n",
            "fizz\n",
            "buzz\n",
            "11\n",
            "fizz\n",
            "13\n",
            "14\n",
            "fizz\n",
            "16\n",
            "17\n",
            "fizz\n",
            "19\n",
            "buzz\n",
            "fizz\n",
            "22\n",
            "23\n",
            "fizz\n",
            "buzz\n",
            "26\n",
            "fizz\n",
            "28\n",
            "29\n",
            "fizz\n",
            "31\n",
            "32\n",
            "fizz\n",
            "34\n",
            "buzz\n",
            "fizz\n",
            "37\n",
            "38\n",
            "fizz\n",
            "buzz\n",
            "41\n",
            "fizz\n",
            "43\n",
            "44\n",
            "fizz\n",
            "46\n",
            "47\n",
            "fizz\n",
            "49\n",
            "buzz\n"
          ]
        }
      ]
    },
    {
      "cell_type": "code",
      "source": [
        "def factorial(num):\n",
        "  if (num == 1 ):\n",
        "     return num\n",
        "\n",
        "  return num * factorial(num - 1)\n",
        "\n",
        "n = int(input(\"Enter number\"))\n",
        "print(factorial(n))"
      ],
      "metadata": {
        "colab": {
          "base_uri": "https://localhost:8080/"
        },
        "id": "D5SizL4TE6n8",
        "outputId": "27d3a7aa-d1cd-4b2f-bcc9-97ae684d97e5"
      },
      "execution_count": null,
      "outputs": [
        {
          "output_type": "stream",
          "name": "stdout",
          "text": [
            "Enter number5\n",
            "120\n"
          ]
        }
      ]
    },
    {
      "cell_type": "code",
      "source": [
        "def square(nums):\n",
        "   sqr=[]\n",
        "   for i in nums:\n",
        "    sqr.append(i * i)\n",
        "   return sqr\n",
        "\n",
        "nums= [1, 2, 3, 4]\n",
        "print(square(nums))\n"
      ],
      "metadata": {
        "colab": {
          "base_uri": "https://localhost:8080/"
        },
        "id": "qvlNuf5PGg3N",
        "outputId": "28967a1d-5957-4eb4-aecc-d625f2b5a8bf"
      },
      "execution_count": null,
      "outputs": [
        {
          "output_type": "stream",
          "name": "stdout",
          "text": [
            "[1, 4, 9, 16]\n"
          ]
        }
      ]
    },
    {
      "cell_type": "code",
      "source": [
        "def primenum(num):\n",
        "  if num <= 1:\n",
        "    return False\n",
        "  for i in range(2, int(num**0.5) + 1):\n",
        "    if num % i == 0:\n",
        "      return False\n",
        "  return True\n",
        "\n",
        "num = int(input(\"Enter a number: \"))\n",
        "if primenum(num):\n",
        "  print(\"It is a prime number\")\n",
        "else:\n",
        "  print(\"It is not a prime number\")"
      ],
      "metadata": {
        "colab": {
          "base_uri": "https://localhost:8080/"
        },
        "id": "RxUrnxSMIbOR",
        "outputId": "dfc06e6d-adb4-4fcd-f32c-d811f1763c00"
      },
      "execution_count": null,
      "outputs": [
        {
          "output_type": "stream",
          "name": "stdout",
          "text": [
            "Enter a number: 6\n",
            "It is not a prime number\n"
          ]
        }
      ]
    },
    {
      "cell_type": "code",
      "source": [
        "d1 =  {\"Eiman\" : \"A\" ,\n",
        "        \"Moiz\": \"C\",\n",
        "        \"Mahad\" : \"B\",\n",
        "        \"Taha\" : \"A\",\n",
        "             \"Shaher\" : \"A\"}\n",
        "\n",
        "d2 = {\"Eiman\" : \"B\" ,\n",
        "        \"Moiz\": \"D\",\n",
        "      }\n",
        "\n",
        "d1.update(d2)\n",
        "print(d1)"
      ],
      "metadata": {
        "colab": {
          "base_uri": "https://localhost:8080/"
        },
        "id": "D6Rre9eDJCzA",
        "outputId": "35b48054-fcfd-429e-980f-b763b1149f25"
      },
      "execution_count": null,
      "outputs": [
        {
          "output_type": "stream",
          "name": "stdout",
          "text": [
            "{'Eiman': 'B', 'Moiz': 'D', 'Mahad': 'B', 'Taha': 'A', 'Shaher': 'A'}\n"
          ]
        }
      ]
    },
    {
      "cell_type": "code",
      "source": [
        "str = input(\"Enter word:\")\n",
        "\n",
        "rev = lambda str: str[::-1]\n",
        "if (str == rev(str)):\n",
        "  print(\"palindrome\")\n",
        "else:\n",
        "  print(\"not palindrome\")\n"
      ],
      "metadata": {
        "colab": {
          "base_uri": "https://localhost:8080/"
        },
        "id": "QqIaXm-6KDCv",
        "outputId": "99ae4d3d-3857-4306-ebba-49ddb8269910"
      },
      "execution_count": null,
      "outputs": [
        {
          "output_type": "stream",
          "name": "stdout",
          "text": [
            "Enter word:abba\n",
            "palindrome\n"
          ]
        }
      ]
    },
    {
      "cell_type": "code",
      "source": [
        "\n",
        "def fiboseries(n):\n",
        "    v1 = 0\n",
        "    v2 = 1\n",
        "\n",
        "    print(v1)\n",
        "    if n == 1:\n",
        "        return\n",
        "\n",
        "    print(v2)\n",
        "    for i in range(3, n + 1):\n",
        "        next = v1 + v2\n",
        "        v1 = v2\n",
        "        v2 = next\n",
        "        print(next)\n",
        "\n",
        "n = int(input(\"Enter number of terms: \"))\n",
        "fiboseries(n)"
      ],
      "metadata": {
        "id": "sjBlFDvELTIC",
        "colab": {
          "base_uri": "https://localhost:8080/"
        },
        "outputId": "c9f00ac9-ff4b-408a-f1a4-77a97e1d1f41"
      },
      "execution_count": 1,
      "outputs": [
        {
          "output_type": "stream",
          "name": "stdout",
          "text": [
            "Enter number of terms: 5\n",
            "0\n",
            "1\n",
            "1\n",
            "2\n",
            "3\n"
          ]
        }
      ]
    },
    {
      "cell_type": "code",
      "source": [
        "arr = []\n",
        "print(\"Enter your list1 of integer\")\n",
        "for i in range(5):\n",
        "    arr.append(int(input()))\n",
        "\n",
        "avg = sum(arr) / len(arr)\n",
        "print(\"average is \" , avg)"
      ],
      "metadata": {
        "colab": {
          "base_uri": "https://localhost:8080/"
        },
        "id": "-ziyx42tPPg6",
        "outputId": "54d3443a-d814-4795-c752-3c1bfb09b52e"
      },
      "execution_count": 3,
      "outputs": [
        {
          "output_type": "stream",
          "name": "stdout",
          "text": [
            "Enter your list1 of integer\n",
            "1\n",
            "2\n",
            "3\n",
            "3\n",
            "2\n",
            "average is  2.2\n"
          ]
        }
      ]
    },
    {
      "cell_type": "code",
      "source": [
        "for i in range(1, 11):\n",
        "  for j in range(1, 11):\n",
        "    print(i, \" x \", j, \" = \", i * j, end = \" \")\n",
        "    print()"
      ],
      "metadata": {
        "colab": {
          "base_uri": "https://localhost:8080/"
        },
        "id": "BSE8XfoKQt9o",
        "outputId": "8a85a5f2-6f24-470a-b251-3c058a39e0d3"
      },
      "execution_count": 8,
      "outputs": [
        {
          "output_type": "stream",
          "name": "stdout",
          "text": [
            "1  x  1  =  1 \n",
            "1  x  2  =  2 \n",
            "1  x  3  =  3 \n",
            "1  x  4  =  4 \n",
            "1  x  5  =  5 \n",
            "1  x  6  =  6 \n",
            "1  x  7  =  7 \n",
            "1  x  8  =  8 \n",
            "1  x  9  =  9 \n",
            "1  x  10  =  10 \n",
            "2  x  1  =  2 \n",
            "2  x  2  =  4 \n",
            "2  x  3  =  6 \n",
            "2  x  4  =  8 \n",
            "2  x  5  =  10 \n",
            "2  x  6  =  12 \n",
            "2  x  7  =  14 \n",
            "2  x  8  =  16 \n",
            "2  x  9  =  18 \n",
            "2  x  10  =  20 \n",
            "3  x  1  =  3 \n",
            "3  x  2  =  6 \n",
            "3  x  3  =  9 \n",
            "3  x  4  =  12 \n",
            "3  x  5  =  15 \n",
            "3  x  6  =  18 \n",
            "3  x  7  =  21 \n",
            "3  x  8  =  24 \n",
            "3  x  9  =  27 \n",
            "3  x  10  =  30 \n",
            "4  x  1  =  4 \n",
            "4  x  2  =  8 \n",
            "4  x  3  =  12 \n",
            "4  x  4  =  16 \n",
            "4  x  5  =  20 \n",
            "4  x  6  =  24 \n",
            "4  x  7  =  28 \n",
            "4  x  8  =  32 \n",
            "4  x  9  =  36 \n",
            "4  x  10  =  40 \n",
            "5  x  1  =  5 \n",
            "5  x  2  =  10 \n",
            "5  x  3  =  15 \n",
            "5  x  4  =  20 \n",
            "5  x  5  =  25 \n",
            "5  x  6  =  30 \n",
            "5  x  7  =  35 \n",
            "5  x  8  =  40 \n",
            "5  x  9  =  45 \n",
            "5  x  10  =  50 \n",
            "6  x  1  =  6 \n",
            "6  x  2  =  12 \n",
            "6  x  3  =  18 \n",
            "6  x  4  =  24 \n",
            "6  x  5  =  30 \n",
            "6  x  6  =  36 \n",
            "6  x  7  =  42 \n",
            "6  x  8  =  48 \n",
            "6  x  9  =  54 \n",
            "6  x  10  =  60 \n",
            "7  x  1  =  7 \n",
            "7  x  2  =  14 \n",
            "7  x  3  =  21 \n",
            "7  x  4  =  28 \n",
            "7  x  5  =  35 \n",
            "7  x  6  =  42 \n",
            "7  x  7  =  49 \n",
            "7  x  8  =  56 \n",
            "7  x  9  =  63 \n",
            "7  x  10  =  70 \n",
            "8  x  1  =  8 \n",
            "8  x  2  =  16 \n",
            "8  x  3  =  24 \n",
            "8  x  4  =  32 \n",
            "8  x  5  =  40 \n",
            "8  x  6  =  48 \n",
            "8  x  7  =  56 \n",
            "8  x  8  =  64 \n",
            "8  x  9  =  72 \n",
            "8  x  10  =  80 \n",
            "9  x  1  =  9 \n",
            "9  x  2  =  18 \n",
            "9  x  3  =  27 \n",
            "9  x  4  =  36 \n",
            "9  x  5  =  45 \n",
            "9  x  6  =  54 \n",
            "9  x  7  =  63 \n",
            "9  x  8  =  72 \n",
            "9  x  9  =  81 \n",
            "9  x  10  =  90 \n",
            "10  x  1  =  10 \n",
            "10  x  2  =  20 \n",
            "10  x  3  =  30 \n",
            "10  x  4  =  40 \n",
            "10  x  5  =  50 \n",
            "10  x  6  =  60 \n",
            "10  x  7  =  70 \n",
            "10  x  8  =  80 \n",
            "10  x  9  =  90 \n",
            "10  x  10  =  100 \n"
          ]
        }
      ]
    },
    {
      "cell_type": "code",
      "source": [
        "def removeduplicates(list1):\n",
        "  return list(dict.fromkeys(list1))\n",
        "\n",
        "list1 = [1, 2, 3, 4, 3 , 4, 2, 7, 8 ,9]\n",
        "print(removeduplicates(list1))"
      ],
      "metadata": {
        "colab": {
          "base_uri": "https://localhost:8080/"
        },
        "id": "f5gxXkfBS_bz",
        "outputId": "45076bad-169f-4fcf-9c63-a846ddb7e9ad"
      },
      "execution_count": 9,
      "outputs": [
        {
          "output_type": "stream",
          "name": "stdout",
          "text": [
            "[1, 2, 3, 4, 7, 8, 9]\n"
          ]
        }
      ]
    },
    {
      "cell_type": "code",
      "source": [
        "users={}\n",
        "def register():\n",
        "    username=input(\"Enter username:\")\n",
        "    password=input(\"Enter password:\")\n",
        "    users.update([(username,password)])\n",
        "    print(\"Registartion Successful\")\n",
        "    print(users)\n",
        "\n",
        "def login():\n",
        "    username=input(\"Enter username:\")\n",
        "    password=input(\"Enter password:\")\n",
        "    if username in users and password==users[username]:\n",
        "      print(\"Login successful\")\n",
        "    else:\n",
        "        print(\"Invalid username or password\")\n",
        "\n",
        "while True:\n",
        "  opt =input(\"Enter your choice: \")\n",
        "  if opt == \"1\":\n",
        "    register()\n",
        "  elif opt == \"2\":\n",
        "    login()\n",
        "  else:\n",
        "    print(\"Invalid choice\")"
      ],
      "metadata": {
        "colab": {
          "base_uri": "https://localhost:8080/",
          "height": 443
        },
        "collapsed": true,
        "id": "uBQYe6FMTuZo",
        "outputId": "e03a56c9-8f40-41e7-c72c-0732ab42077f"
      },
      "execution_count": 14,
      "outputs": [
        {
          "output_type": "stream",
          "name": "stdout",
          "text": [
            "Enter your choice: 2\n",
            "Enter username:shaher\n",
            "Enter password:1232\n",
            "Invalid username or password\n"
          ]
        },
        {
          "output_type": "error",
          "ename": "KeyboardInterrupt",
          "evalue": "Interrupted by user",
          "traceback": [
            "\u001b[0;31m---------------------------------------------------------------------------\u001b[0m",
            "\u001b[0;31mKeyboardInterrupt\u001b[0m                         Traceback (most recent call last)",
            "\u001b[0;32m<ipython-input-14-6d37477f706c>\u001b[0m in \u001b[0;36m<cell line: 0>\u001b[0;34m()\u001b[0m\n\u001b[1;32m     16\u001b[0m \u001b[0;34m\u001b[0m\u001b[0m\n\u001b[1;32m     17\u001b[0m \u001b[0;32mwhile\u001b[0m \u001b[0;32mTrue\u001b[0m\u001b[0;34m:\u001b[0m\u001b[0;34m\u001b[0m\u001b[0;34m\u001b[0m\u001b[0m\n\u001b[0;32m---> 18\u001b[0;31m   \u001b[0mopt\u001b[0m \u001b[0;34m=\u001b[0m\u001b[0minput\u001b[0m\u001b[0;34m(\u001b[0m\u001b[0;34m\"Enter your choice: \"\u001b[0m\u001b[0;34m)\u001b[0m\u001b[0;34m\u001b[0m\u001b[0;34m\u001b[0m\u001b[0m\n\u001b[0m\u001b[1;32m     19\u001b[0m   \u001b[0;32mif\u001b[0m \u001b[0mopt\u001b[0m \u001b[0;34m==\u001b[0m \u001b[0;34m\"1\"\u001b[0m\u001b[0;34m:\u001b[0m\u001b[0;34m\u001b[0m\u001b[0;34m\u001b[0m\u001b[0m\n\u001b[1;32m     20\u001b[0m     \u001b[0mregister\u001b[0m\u001b[0;34m(\u001b[0m\u001b[0;34m)\u001b[0m\u001b[0;34m\u001b[0m\u001b[0;34m\u001b[0m\u001b[0m\n",
            "\u001b[0;32m/usr/local/lib/python3.11/dist-packages/ipykernel/kernelbase.py\u001b[0m in \u001b[0;36mraw_input\u001b[0;34m(self, prompt)\u001b[0m\n\u001b[1;32m    849\u001b[0m                 \u001b[0;34m\"raw_input was called, but this frontend does not support input requests.\"\u001b[0m\u001b[0;34m\u001b[0m\u001b[0;34m\u001b[0m\u001b[0m\n\u001b[1;32m    850\u001b[0m             )\n\u001b[0;32m--> 851\u001b[0;31m         return self._input_request(str(prompt),\n\u001b[0m\u001b[1;32m    852\u001b[0m             \u001b[0mself\u001b[0m\u001b[0;34m.\u001b[0m\u001b[0m_parent_ident\u001b[0m\u001b[0;34m,\u001b[0m\u001b[0;34m\u001b[0m\u001b[0;34m\u001b[0m\u001b[0m\n\u001b[1;32m    853\u001b[0m             \u001b[0mself\u001b[0m\u001b[0;34m.\u001b[0m\u001b[0m_parent_header\u001b[0m\u001b[0;34m,\u001b[0m\u001b[0;34m\u001b[0m\u001b[0;34m\u001b[0m\u001b[0m\n",
            "\u001b[0;32m/usr/local/lib/python3.11/dist-packages/ipykernel/kernelbase.py\u001b[0m in \u001b[0;36m_input_request\u001b[0;34m(self, prompt, ident, parent, password)\u001b[0m\n\u001b[1;32m    893\u001b[0m             \u001b[0;32mexcept\u001b[0m \u001b[0mKeyboardInterrupt\u001b[0m\u001b[0;34m:\u001b[0m\u001b[0;34m\u001b[0m\u001b[0;34m\u001b[0m\u001b[0m\n\u001b[1;32m    894\u001b[0m                 \u001b[0;31m# re-raise KeyboardInterrupt, to truncate traceback\u001b[0m\u001b[0;34m\u001b[0m\u001b[0;34m\u001b[0m\u001b[0m\n\u001b[0;32m--> 895\u001b[0;31m                 \u001b[0;32mraise\u001b[0m \u001b[0mKeyboardInterrupt\u001b[0m\u001b[0;34m(\u001b[0m\u001b[0;34m\"Interrupted by user\"\u001b[0m\u001b[0;34m)\u001b[0m \u001b[0;32mfrom\u001b[0m \u001b[0;32mNone\u001b[0m\u001b[0;34m\u001b[0m\u001b[0;34m\u001b[0m\u001b[0m\n\u001b[0m\u001b[1;32m    896\u001b[0m             \u001b[0;32mexcept\u001b[0m \u001b[0mException\u001b[0m \u001b[0;32mas\u001b[0m \u001b[0me\u001b[0m\u001b[0;34m:\u001b[0m\u001b[0;34m\u001b[0m\u001b[0;34m\u001b[0m\u001b[0m\n\u001b[1;32m    897\u001b[0m                 \u001b[0mself\u001b[0m\u001b[0;34m.\u001b[0m\u001b[0mlog\u001b[0m\u001b[0;34m.\u001b[0m\u001b[0mwarning\u001b[0m\u001b[0;34m(\u001b[0m\u001b[0;34m\"Invalid Message:\"\u001b[0m\u001b[0;34m,\u001b[0m \u001b[0mexc_info\u001b[0m\u001b[0;34m=\u001b[0m\u001b[0;32mTrue\u001b[0m\u001b[0;34m)\u001b[0m\u001b[0;34m\u001b[0m\u001b[0;34m\u001b[0m\u001b[0m\n",
            "\u001b[0;31mKeyboardInterrupt\u001b[0m: Interrupted by user"
          ]
        }
      ]
    },
    {
      "cell_type": "code",
      "source": [
        "Count={}\n",
        "word=input(\"Enter your word: \")\n",
        "while(word!=\"0\"):\n",
        "  if word in Count:\n",
        "    Count[word]+=1\n",
        "  else:\n",
        "    Count[word]=1\n",
        "\n",
        "  print(Count)\n",
        "  word=input(\"Enter your word: \")"
      ],
      "metadata": {
        "id": "yLHyvIGRMvub"
      },
      "execution_count": null,
      "outputs": []
    },
    {
      "cell_type": "code",
      "source": [
        "def TempConversion():\n",
        "  opt=input(\"Enter unit:\")\n",
        "  temp=float(input(\"Enter temperature:\"))\n",
        "  if opt ==\"F\":\n",
        "    temp=((temp)-32)*5/9\n",
        "    print(f\"The temperature in Celsius is {temp}\")\n",
        "  elif opt ==\"C\":\n",
        "    temp=((temp)*9/5)+32\n",
        "    print(f\"The temperature in Fahrenheit is {temp}\")\n",
        "  else:\n",
        "    print(\"Inavlid Input\")\n",
        "\n",
        "TempConversion()"
      ],
      "metadata": {
        "colab": {
          "base_uri": "https://localhost:8080/"
        },
        "id": "Esz4yZWbWd1K",
        "outputId": "ad56f350-c68d-412d-e15b-d253ed0e2a7a"
      },
      "execution_count": 18,
      "outputs": [
        {
          "output_type": "stream",
          "name": "stdout",
          "text": [
            "Enter unit:C\n",
            "Enter temperature:45\n",
            "The temperature in Fahrenheit is 113.0\n"
          ]
        }
      ]
    }
  ]
}